{
  "nbformat": 4,
  "nbformat_minor": 0,
  "metadata": {
    "colab": {
      "name": "Naive Bayes Lab 2.ipynb",
      "provenance": []
    },
    "kernelspec": {
      "name": "python3",
      "display_name": "Python 3"
    },
    "language_info": {
      "name": "python"
    }
  },
  "cells": [
    {
      "cell_type": "code",
      "execution_count": null,
      "metadata": {
        "id": "0-gXwVS_dMyi"
      },
      "outputs": [],
      "source": [
        "import pandas as pd\n",
        "import numpy as np\n",
        "from sklearn.model_selection import train_test_split"
      ]
    },
    {
      "cell_type": "code",
      "source": [
        "data = \"https://raw.githubusercontent.com/harshit2000/BVP-RA-Training/main/Naive_Bayes_Lab_2/Dataset/train.csv\""
      ],
      "metadata": {
        "id": "FVd6iCpDdcOu"
      },
      "execution_count": null,
      "outputs": []
    },
    {
      "cell_type": "code",
      "source": [
        "df = pd.read_csv(data)\n",
        "df"
      ],
      "metadata": {
        "id": "x5zBx4tedgxp"
      },
      "execution_count": null,
      "outputs": []
    },
    {
      "cell_type": "code",
      "source": [
        "#Data Exploration Steps\n",
        "df.drop(['PassengerId', 'Name', 'SibSp', 'Parch', 'Ticket', 'Cabin', 'Embarked'], axis='columns', inplace=True)"
      ],
      "metadata": {
        "id": "gSN23Oxfgt2L"
      },
      "execution_count": null,
      "outputs": []
    },
    {
      "cell_type": "code",
      "source": [
        "df.head()"
      ],
      "metadata": {
        "id": "UTZj_TUiigSi"
      },
      "execution_count": null,
      "outputs": []
    },
    {
      "cell_type": "code",
      "source": [
        "target = df.Survived\n",
        "inputs = df.drop('Survived', axis='columns')"
      ],
      "metadata": {
        "id": "tiI4qIjmijoh"
      },
      "execution_count": null,
      "outputs": []
    },
    {
      "cell_type": "code",
      "source": [
        "#One hot encoding\n",
        "dummies = pd.get_dummies(inputs.Sex)\n",
        "dummies.head(3)"
      ],
      "metadata": {
        "id": "s3tMVHmci3tf"
      },
      "execution_count": null,
      "outputs": []
    },
    {
      "cell_type": "code",
      "source": [
        "inputs = pd.concat([inputs,dummies], axis = 'columns')\n",
        "inputs.head(3)"
      ],
      "metadata": {
        "id": "2sBfvjt0jGYR"
      },
      "execution_count": null,
      "outputs": []
    },
    {
      "cell_type": "code",
      "source": [
        "inputs.drop('Sex', axis = 'columns', inplace = True)\n",
        "inputs.head(3)"
      ],
      "metadata": {
        "id": "EonDO3DHjgd8"
      },
      "execution_count": null,
      "outputs": []
    },
    {
      "cell_type": "code",
      "source": [
        "#Na value check\n",
        "inputs.columns[inputs.isna().any()]"
      ],
      "metadata": {
        "id": "-XMIHukJjvXa"
      },
      "execution_count": null,
      "outputs": []
    },
    {
      "cell_type": "code",
      "source": [
        "inputs.Age[:10]"
      ],
      "metadata": {
        "id": "8GwCWudej397"
      },
      "execution_count": null,
      "outputs": []
    },
    {
      "cell_type": "code",
      "source": [
        "inputs.Age = inputs.Age.fillna(inputs.Age.mean())\n",
        "inputs.head(5)"
      ],
      "metadata": {
        "id": "KdrltYF5j-MP"
      },
      "execution_count": null,
      "outputs": []
    },
    {
      "cell_type": "code",
      "source": [
        "#Splitting the dataset\n",
        "#This is done in order to ensure the model is not biased\n",
        "#20-80 ratio\n",
        "X_train, X_test, y_train, y_test = train_test_split(inputs,target, test_size=0.2)\n"
      ],
      "metadata": {
        "id": "kjacV9JFkI8W"
      },
      "execution_count": null,
      "outputs": []
    },
    {
      "cell_type": "code",
      "source": [
        "len(X_train)"
      ],
      "metadata": {
        "id": "9GZFfenVk-BH"
      },
      "execution_count": null,
      "outputs": []
    },
    {
      "cell_type": "code",
      "source": [
        "len(X_test)"
      ],
      "metadata": {
        "id": "4SfYZeBclF7g"
      },
      "execution_count": null,
      "outputs": []
    },
    {
      "cell_type": "code",
      "source": [
        "len(inputs)"
      ],
      "metadata": {
        "id": "YAjhPM0QlJKc"
      },
      "execution_count": null,
      "outputs": []
    },
    {
      "cell_type": "code",
      "source": [
        "#Naive Bayes model\n",
        "#Distribution is normal and have a bell curve\n",
        "from sklearn.naive_bayes import GaussianNB\n",
        "model = GaussianNB()"
      ],
      "metadata": {
        "id": "nOxwdWdxlLVT"
      },
      "execution_count": null,
      "outputs": []
    },
    {
      "cell_type": "code",
      "source": [
        "model.fit(X_train, y_train)"
      ],
      "metadata": {
        "id": "_XBaLSMXlYvs"
      },
      "execution_count": null,
      "outputs": []
    },
    {
      "cell_type": "code",
      "source": [
        "model.score(X_test, y_test)"
      ],
      "metadata": {
        "id": "uSqyr5tOlmGj"
      },
      "execution_count": null,
      "outputs": []
    },
    {
      "cell_type": "code",
      "source": [
        "X_test[:10]"
      ],
      "metadata": {
        "id": "APH52s_KltrC"
      },
      "execution_count": null,
      "outputs": []
    },
    {
      "cell_type": "code",
      "source": [
        "y_test[:10]"
      ],
      "metadata": {
        "id": "91ndg2FWl2bN"
      },
      "execution_count": null,
      "outputs": []
    },
    {
      "cell_type": "code",
      "source": [
        "model.predict(X_test[:10])"
      ],
      "metadata": {
        "id": "pV1dq50El6WH"
      },
      "execution_count": null,
      "outputs": []
    },
    {
      "cell_type": "code",
      "source": [
        "model.predict_proba(X_test[:10])"
      ],
      "metadata": {
        "id": "2oe5qR7xmDie"
      },
      "execution_count": null,
      "outputs": []
    },
    {
      "cell_type": "code",
      "source": [
        ""
      ],
      "metadata": {
        "id": "5yB19-shmNid"
      },
      "execution_count": null,
      "outputs": []
    }
  ]
}